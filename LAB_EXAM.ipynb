{
  "nbformat": 4,
  "nbformat_minor": 0,
  "metadata": {
    "colab": {
      "provenance": [],
      "toc_visible": true,
      "authorship_tag": "ABX9TyPWXUlQyvk+bh4c/aseQjoK",
      "include_colab_link": true
    },
    "kernelspec": {
      "name": "python3",
      "display_name": "Python 3"
    },
    "language_info": {
      "name": "python"
    }
  },
  "cells": [
    {
      "cell_type": "markdown",
      "metadata": {
        "id": "view-in-github",
        "colab_type": "text"
      },
      "source": [
        "<a href=\"https://colab.research.google.com/github/2303A52139/AIML_2303a52139/blob/main/LAB_EXAM.ipynb\" target=\"_parent\"><img src=\"https://colab.research.google.com/assets/colab-badge.svg\" alt=\"Open In Colab\"/></a>"
      ]
    },
    {
      "cell_type": "code",
      "source": [
        "\n",
        "# Load necessary libraries\n",
        "import pandas as pd\n",
        "\n",
        "# Load the dataset\n",
        "data = pd.read_csv('/content/individual+household+electric+power+consumption.zip', sep=';', parse_dates=[[0, 1]], na_values='?',\n",
        "                   infer_datetime_format=True, low_memory=False)\n",
        "\n",
        "# Rename columns for easier access\n",
        "data.columns = ['Datetime', 'Global_active_power', 'Global_reactive_power', 'Voltage',\n",
        "                'Global_intensity', 'Sub_metering_1', 'Sub_metering_2', 'Sub_metering_3']\n",
        "\n",
        "# Convert columns to numeric where applicable\n",
        "for col in data.columns[1:]:\n",
        "    data[col] = pd.to_numeric(data[col], errors='coerce')\n",
        "\n",
        "# Drop rows with NaN values\n",
        "data.dropna(inplace=True)\n",
        "\n",
        "# Find top 5 correlations\n",
        "correlations = data.corr()['Global_active_power'].sort_values(ascending=False).drop('Global_active_power').head(5)\n",
        "print(\"Top 5 reasons for electricity consumption:\")\n",
        "print(correlations)"
      ],
      "metadata": {
        "colab": {
          "base_uri": "https://localhost:8080/"
        },
        "id": "eFTB7BANslI_",
        "outputId": "2fac8fd4-d26e-43e0-99ed-c1462384c6cd"
      },
      "execution_count": 3,
      "outputs": [
        {
          "output_type": "stream",
          "name": "stderr",
          "text": [
            "<ipython-input-3-e88e75e54f46>:5: FutureWarning: Support for nested sequences for 'parse_dates' in pd.read_csv is deprecated. Combine the desired columns with pd.to_datetime after parsing instead.\n",
            "  data = pd.read_csv('/content/individual+household+electric+power+consumption.zip', sep=';', parse_dates=[[0, 1]], na_values='?',\n",
            "<ipython-input-3-e88e75e54f46>:5: FutureWarning: The argument 'infer_datetime_format' is deprecated and will be removed in a future version. A strict version of it is now the default, see https://pandas.pydata.org/pdeps/0004-consistent-to-datetime-parsing.html. You can safely remove this argument.\n",
            "  data = pd.read_csv('/content/individual+household+electric+power+consumption.zip', sep=';', parse_dates=[[0, 1]], na_values='?',\n",
            "<ipython-input-3-e88e75e54f46>:5: UserWarning: Parsing dates in %d/%m/%Y %H:%M:%S format when dayfirst=False (the default) was specified. Pass `dayfirst=True` or specify a format to silence this warning.\n",
            "  data = pd.read_csv('/content/individual+household+electric+power+consumption.zip', sep=';', parse_dates=[[0, 1]], na_values='?',\n"
          ]
        },
        {
          "output_type": "stream",
          "name": "stdout",
          "text": [
            "Top 5 reasons for electricity consumption:\n",
            "Global_intensity         0.998889\n",
            "Sub_metering_3           0.638555\n",
            "Sub_metering_1           0.484401\n",
            "Sub_metering_2           0.434569\n",
            "Global_reactive_power    0.247017\n",
            "Name: Global_active_power, dtype: float64\n"
          ]
        }
      ]
    },
    {
      "cell_type": "code",
      "source": [
        "\n",
        "# Find the row with the maximum Global_active_power\n",
        "highest_consumption = data.loc[data['Global_active_power'].idxmax()]\n",
        "print(f\"\\nDate and Time of highest consumption: {highest_consumption['Datetime']}\")"
      ],
      "metadata": {
        "colab": {
          "base_uri": "https://localhost:8080/"
        },
        "id": "H7QLC6O-tVIx",
        "outputId": "a999ff6b-948d-4702-f652-47302e18fff4"
      },
      "execution_count": 5,
      "outputs": [
        {
          "output_type": "stream",
          "name": "stdout",
          "text": [
            "\n",
            "Date and Time of highest consumption: 2009-02-22 17:09:00\n"
          ]
        }
      ]
    },
    {
      "cell_type": "code",
      "source": [
        "\n",
        "# Find max and min values of Global_active_power\n",
        "max_consumption = data['Global_active_power'].max()\n",
        "min_consumption = data['Global_active_power'].min()\n",
        "\n",
        "print(f\"\\nMax Consumption: {max_consumption} kW\")\n",
        "print(f\"Min Consumption: {min_consumption} kW\")"
      ],
      "metadata": {
        "colab": {
          "base_uri": "https://localhost:8080/"
        },
        "id": "Q5SnMFOUthC_",
        "outputId": "bf015648-19d5-4db8-b975-639daef95c9f"
      },
      "execution_count": 6,
      "outputs": [
        {
          "output_type": "stream",
          "name": "stdout",
          "text": [
            "\n",
            "Max Consumption: 11.122 kW\n",
            "Min Consumption: 0.076 kW\n"
          ]
        }
      ]
    },
    {
      "cell_type": "code",
      "source": [
        "\n",
        "# Sum up the values for each sub-metering system\n",
        "sub_metering_totals = {\n",
        "    \"Sub_metering_1\": data['Sub_metering_1'].sum(),\n",
        "    \"Sub_metering_2\": data['Sub_metering_2'].sum(),\n",
        "    \"Sub_metering_3\": data['Sub_metering_3'].sum(),\n",
        "}\n",
        "highest_sub_metering = max(sub_metering_totals, key=sub_metering_totals.get)\n",
        "print(f\"\\nHighest sub-metering system: {highest_sub_metering}\")\n"
      ],
      "metadata": {
        "colab": {
          "base_uri": "https://localhost:8080/"
        },
        "id": "FKBsIBq1th-v",
        "outputId": "412a5504-a928-4929-9e81-ed462a45851f"
      },
      "execution_count": 7,
      "outputs": [
        {
          "output_type": "stream",
          "name": "stdout",
          "text": [
            "\n",
            "Highest sub-metering system: Sub_metering_3\n"
          ]
        }
      ]
    },
    {
      "cell_type": "code",
      "source": [
        "\n",
        "# Count unique values of Global_active_power\n",
        "consumption_counts = data['Global_active_power'].value_counts()\n",
        "print(f\"\\nConsumption counts of global electricity values:\\n{consumption_counts}\")"
      ],
      "metadata": {
        "colab": {
          "base_uri": "https://localhost:8080/"
        },
        "id": "OJa0DgVOtud8",
        "outputId": "6159ebcf-f261-4c9c-96ea-2e7c61d758da"
      },
      "execution_count": 8,
      "outputs": [
        {
          "output_type": "stream",
          "name": "stdout",
          "text": [
            "\n",
            "Consumption counts of global electricity values:\n",
            "Global_active_power\n",
            "0.218    9565\n",
            "0.216    9363\n",
            "0.322    9350\n",
            "0.324    9304\n",
            "0.326    9187\n",
            "         ... \n",
            "7.094       1\n",
            "7.930       1\n",
            "8.274       1\n",
            "8.246       1\n",
            "8.600       1\n",
            "Name: count, Length: 4186, dtype: int64\n"
          ]
        }
      ]
    },
    {
      "cell_type": "code",
      "source": [
        "\n",
        "from sklearn.cluster import KMeans\n",
        "import numpy as np\n",
        "\n",
        "# Select features for clustering\n",
        "features = data[['Global_active_power', 'Global_reactive_power', 'Voltage', 'Global_intensity']]\n",
        "\n",
        "# Normalize the data\n",
        "features_normalized = (features - features.mean()) / features.std()\n",
        "\n",
        "# Apply KMeans\n",
        "kmeans = KMeans(n_clusters=3, random_state=42)\n",
        "kmeans.fit(features_normalized)\n",
        "\n",
        "# Add cluster labels to the data\n",
        "data['Cluster'] = kmeans.labels_\n",
        "\n",
        "# Evaluate KMeans\n",
        "print(f\"\\nKMeans Inertia: {kmeans.inertia_}\")\n",
        "print(f\"Cluster Centers:\\n{kmeans.cluster_centers_}\")"
      ],
      "metadata": {
        "colab": {
          "base_uri": "https://localhost:8080/"
        },
        "id": "om3Q4JVAtysQ",
        "outputId": "3889576a-6c51-489c-ead9-d3892c2113c5"
      },
      "execution_count": 9,
      "outputs": [
        {
          "output_type": "stream",
          "name": "stdout",
          "text": [
            "\n",
            "KMeans Inertia: 4234209.466853724\n",
            "Cluster Centers:\n",
            "[[ 1.82930505  0.34037897 -0.9788808   1.83771747]\n",
            " [-0.13828124  1.11576541  0.03107028 -0.11660041]\n",
            " [-0.40824389 -0.56279523  0.23676287 -0.41963909]]\n"
          ]
        }
      ]
    }
  ]
}